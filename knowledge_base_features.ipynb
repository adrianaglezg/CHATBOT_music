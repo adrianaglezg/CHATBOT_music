{
 "cells": [
  {
   "cell_type": "markdown",
   "metadata": {},
   "source": [
    "## get html content"
   ]
  },
  {
   "cell_type": "code",
   "execution_count": 14,
   "metadata": {},
   "outputs": [],
   "source": [
    "import requests\n",
    "from bs4 import BeautifulSoup\n",
    "\n",
    "urls = [\n",
    "    \"https://www.kennedy-center.org/education/resources-for-educators/classroom-resources/media-and-interactives/media/music/your-brain-on-music/your-brain-on-music/your-brain-on-music-tearjerkers/\",\n",
    "    \"https://www.ncbi.nlm.nih.gov/pmc/articles/PMC3779798/\",\n",
    "    \"https://www.psypost.org/new-research-uncovers-atonal-musics-distinct-emotional-and-neural-effects/\",\n",
    "    \"https://online.ucpress.edu/mp/article/40/3/202/195230/The-Perceptual-and-Emotional-Consequences-of\",\n",
    "    \"https://dl.acm.org/doi/fullHtml/10.1145/3461615.3485419\",\n",
    "    \"https://www.unprofesor.com/musica/tipos-de-cadencia-musical-3912.html?utm_source=chatgpt.com#anchor_1\",\n",
    "    \"https://eldiaadiariomusica.wordpress.com/2013/06/23/sentido-y-personalidad-de-las-tonalidades/\"\n",
    "]"
   ]
  },
  {
   "cell_type": "code",
   "execution_count": 7,
   "metadata": {},
   "outputs": [],
   "source": [
    "def extract_text(url):\n",
    "    try:\n",
    "        response = requests.get(url)\n",
    "        soup = BeautifulSoup(response.content, 'html.parser')\n",
    "        return soup.get_text()\n",
    "    except Exception as e:\n",
    "        print(f\"Error procesando {url}: {e}\")\n",
    "        return None"
   ]
  },
  {
   "cell_type": "code",
   "execution_count": 8,
   "metadata": {},
   "outputs": [],
   "source": [
    "knowledge_base = {}\n",
    "for url in urls:\n",
    "    knowledge_base[url] = extract_text(url)"
   ]
  },
  {
   "cell_type": "code",
   "execution_count": 11,
   "metadata": {},
   "outputs": [],
   "source": [
    "# print(knowledge_base)\n",
    "# output:\n",
    "# {'https://www.kennedy-center.org/education/resources-for-educators/classroom-resources/media-and-interactives/media/music/your-brain-on-music/your-brain-on-music/your-brain-on-music-tearjerkers/': 'Just a moment...Enable JavaScript and cookies to continue',\n",
    "#  'https://www.ncbi.nlm.nih.gov/pmc/articles/PMC3779798/': '403403 Forbidden',\n",
    "#  'https://www.psypost.org/new-research-uncovers-atonal-musics-distinct-emotional-and-neural-effects/': '\\n403 Forbidden\\n\\n403 Forbidden\\nnginx\\n\\n\\n',"
   ]
  },
  {
   "cell_type": "markdown",
   "metadata": {},
   "source": [
    "Since the output contains errors that BeautifulSoup cannot handle, such as '403 Forbidden' or 'Just a moment... Enable JavaScript and cookies to continue', we will explore alternative methods to extract the URL content."
   ]
  },
  {
   "cell_type": "code",
   "execution_count": null,
   "metadata": {},
   "outputs": [],
   "source": [
    "%pip install selenium"
   ]
  },
  {
   "cell_type": "code",
   "execution_count": null,
   "metadata": {},
   "outputs": [],
   "source": [
    "%pip install webdriver-manager selenium"
   ]
  },
  {
   "cell_type": "code",
   "execution_count": 12,
   "metadata": {},
   "outputs": [],
   "source": [
    "from selenium import webdriver\n",
    "from selenium.webdriver.chrome.service import Service\n",
    "from selenium.webdriver.chrome.options import Options\n",
    "from webdriver_manager.chrome import ChromeDriverManager\n",
    "\n",
    "def extract_text_selenium(url):\n",
    "    options = Options()\n",
    "    options.add_argument(\"--headless\")  # No abrir ventana del navegador\n",
    "    options.add_argument(\"--disable-blink-features=AutomationControlled\")\n",
    "\n",
    "    # WebDriver Manager descarga la versión correcta de ChromeDriver\n",
    "    service = Service(ChromeDriverManager().install())\n",
    "    driver = webdriver.Chrome(service=service, options=options)\n",
    "\n",
    "    try:\n",
    "        driver.get(url)\n",
    "        page_text = driver.find_element(\"tag name\", \"body\").text\n",
    "        return page_text\n",
    "    except Exception as e:\n",
    "        print(f\"Error procesando {url}: {e}\")\n",
    "        return None\n",
    "    finally:\n",
    "        driver.quit()\n",
    "\n"
   ]
  },
  {
   "cell_type": "code",
   "execution_count": 3,
   "metadata": {},
   "outputs": [
    {
     "name": "stdout",
     "output_type": "stream",
     "text": [
      "SUBSCRIBE\n",
      "The latest psychology and neuroscience discoveries.\n",
      "MY ACCOUNT\n",
      "MENTAL HEALTH\n",
      "SOCIAL PSYCHOLOGY\n",
      "COGNITIVE SCIENCE\n",
      "PSYCHOPHARMACOLOGY\n",
      "NEUROSCIENCE\n",
      "ABOUT\n",
      "Home Exclusive Music\n",
      "New research uncovers atonal music’s distinct emotional and neural effects\n",
      "by Eric W. Dolan May 30, 2024 in Music\n",
      "(Photo credit: Adobe Stock)\n",
      "Stay on top of the latest psychology findings: Subscribe now!\n",
      "A recent study published in the journal Behavioral Neuroscience has shed light on how atonal music affects our emo\n"
     ]
    }
   ],
   "source": [
    "#example\n",
    "url = \"https://www.psypost.org/new-research-uncovers-atonal-musics-distinct-emotional-and-neural-effects/\"\n",
    "text = extract_text_selenium(url)\n",
    "print(text[:500])  \n"
   ]
  },
  {
   "cell_type": "code",
   "execution_count": 15,
   "metadata": {},
   "outputs": [],
   "source": [
    "knowledge_base = {url: extract_text_selenium(url) for url in urls}"
   ]
  },
  {
   "cell_type": "code",
   "execution_count": 24,
   "metadata": {},
   "outputs": [
    {
     "data": {
      "text/plain": [
       "\"An official website of the United States government\\nHere's how you know\\n\\n\\nSearch\\nLog in\\nSearch in PM\""
      ]
     },
     "execution_count": 24,
     "metadata": {},
     "output_type": "execute_result"
    }
   ],
   "source": [
    "knowledge_base['https://www.ncbi.nlm.nih.gov/pmc/articles/PMC3779798/'][:100]"
   ]
  },
  {
   "cell_type": "markdown",
   "metadata": {},
   "source": [
    "Although we manage to retrieve the HTML code for some, there are others who are still denied"
   ]
  },
  {
   "cell_type": "code",
   "execution_count": null,
   "metadata": {},
   "outputs": [],
   "source": [
    "# 'https://online.ucpress.edu/mp/article/40/3/202/195230/The-Perceptual-and-Emotional-Consequences-of': \n",
    "# 'online.ucpress.edu\\nVerificar que usted es un ser humano. Esto podría tardar algunos segundos.\\nonline.ucpress.edu necesita revisar la seguridad de su conexión antes de continuar.\n",
    "# \\nRay ID: 90bd3bb24cf22f8e\\nRendimiento y seguridad de Cloudflare'"
   ]
  },
  {
   "cell_type": "code",
   "execution_count": 25,
   "metadata": {},
   "outputs": [],
   "source": [
    "import json\n",
    "\n",
    "with open(\"data/knowledge_base.json\", \"w\", encoding=\"utf-8\") as file:\n",
    "    json.dump(knowledge_base, file, indent=4, ensure_ascii=False)"
   ]
  },
  {
   "cell_type": "markdown",
   "metadata": {},
   "source": [
    "## clean the text"
   ]
  },
  {
   "cell_type": "code",
   "execution_count": 29,
   "metadata": {},
   "outputs": [],
   "source": [
    "with open(\"data/knowledge_base.json\", \"r\", encoding=\"utf-8\") as file:\n",
    "    raw_data = json.load(file)"
   ]
  },
  {
   "cell_type": "code",
   "execution_count": 33,
   "metadata": {},
   "outputs": [],
   "source": [
    "# raw_data"
   ]
  },
  {
   "cell_type": "code",
   "execution_count": 32,
   "metadata": {},
   "outputs": [],
   "source": [
    "del raw_data['https://online.ucpress.edu/mp/article/40/3/202/195230/The-Perceptual-and-Emotional-Consequences-of']\n",
    "del raw_data['https://www.kennedy-center.org/education/resources-for-educators/classroom-resources/media-and-interactives/media/music/your-brain-on-music/your-brain-on-music/your-brain-on-music-tearjerkers/']"
   ]
  },
  {
   "cell_type": "code",
   "execution_count": 34,
   "metadata": {},
   "outputs": [],
   "source": [
    "import re\n",
    "\n",
    "def preprocess_text(text):\n",
    "    text = re.sub(r'https?://\\S+|www\\.\\S+', '', text)\n",
    "\n",
    "    text = re.sub(r'<[^>]+>', '', text)\n",
    "\n",
    "    text = re.sub(r\"[^a-zA-Z0-9\\u00C0-\\u00FF\\s.,!?;:'-]\", '', text)\n",
    "\n",
    "    text = re.sub(r'\\s+', ' ', text).strip()\n",
    "\n",
    "    return text"
   ]
  },
  {
   "cell_type": "code",
   "execution_count": 35,
   "metadata": {},
   "outputs": [],
   "source": [
    "clean_data = {}\n",
    "for key, value in raw_data.items():\n",
    "    clean_data[key] = preprocess_text(value)"
   ]
  },
  {
   "cell_type": "code",
   "execution_count": 37,
   "metadata": {},
   "outputs": [],
   "source": [
    "# clean_data"
   ]
  },
  {
   "cell_type": "code",
   "execution_count": 38,
   "metadata": {},
   "outputs": [],
   "source": [
    "with open(\"data/clean_data.json\", \"w\", encoding=\"utf-8\") as file:\n",
    "    json.dump(clean_data, file, indent=4, ensure_ascii=False)"
   ]
  },
  {
   "cell_type": "markdown",
   "metadata": {},
   "source": [
    "## concatenate JSON data"
   ]
  },
  {
   "cell_type": "markdown",
   "metadata": {},
   "source": [
    "we have harcoded an json file that stores essential information about musical modes, including Ionian, Dorian, and others."
   ]
  },
  {
   "cell_type": "code",
   "execution_count": 39,
   "metadata": {},
   "outputs": [],
   "source": [
    "path_music_modes = \"data/music_modes.json\"\n",
    "path_clean_data = \"data/clean_data.json\"\n",
    "\n",
    "with open(path_music_modes, \"r\", encoding=\"utf-8\") as file:\n",
    "    music_modes = json.load(file)\n",
    "\n",
    "with open(path_clean_data, \"r\", encoding=\"utf-8\") as file:\n",
    "    clean_data = json.load(file)\n"
   ]
  },
  {
   "cell_type": "code",
   "execution_count": 43,
   "metadata": {},
   "outputs": [],
   "source": [
    "merged_data = {**music_modes, **clean_data}\n",
    "# merged_data"
   ]
  },
  {
   "cell_type": "code",
   "execution_count": 44,
   "metadata": {},
   "outputs": [],
   "source": [
    "path_merge_data = \"data/merged_data.json\"\n",
    "\n",
    "with open(path_merge_data, \"w\", encoding=\"utf-8\") as file:\n",
    "    json.dump(merged_data, file, indent=4, ensure_ascii=False)"
   ]
  }
 ],
 "metadata": {
  "kernelspec": {
   "display_name": "Python 3",
   "language": "python",
   "name": "python3"
  },
  "language_info": {
   "codemirror_mode": {
    "name": "ipython",
    "version": 3
   },
   "file_extension": ".py",
   "mimetype": "text/x-python",
   "name": "python",
   "nbconvert_exporter": "python",
   "pygments_lexer": "ipython3",
   "version": "3.12.6"
  }
 },
 "nbformat": 4,
 "nbformat_minor": 2
}
