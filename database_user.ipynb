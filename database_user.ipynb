{
 "cells": [
  {
   "cell_type": "code",
   "execution_count": 2,
   "metadata": {},
   "outputs": [],
   "source": [
    "emotions = [\n",
    "    # Positive Emotions\n",
    "    \"Joy\", \"Euphoria\", \"Happiness\", \"Optimism\", \"Hope\", \"Enthusiasm\", \"Inspiration\", \"Love\", \"Affection\", \"Gratitude\",\n",
    "    \"Empathy\", \"Inner peace\", \"Serenity\", \"Calmness\", \"Relaxation\", \"Satisfaction\", \"Pride\", \"Motivation\", \"Admiration\",\n",
    "    \"Awe\", \"Confidence\", \"Freedom\", \"Security\", \"Fulfillment\", \"Harmony\",\n",
    "\n",
    "    # Negative Emotions\n",
    "    \"Sadness\", \"Nostalgia\", \"Melancholy\", \"Loneliness\", \"Hopelessness\", \"Anguish\", \"Anxiety\", \"Fear\", \"Insecurity\",\n",
    "    \"Doubt\", \"Frustration\", \"Boredom\", \"Resignation\", \"Emptiness\", \"Disappointment\", \"Guilt\", \"Shame\", \"Remorse\",\n",
    "    \"Sorrow\", \"Grief\", \"Defeat\", \"Distress\", \"Distrust\", \"Emotional pain\", \"Helplessness\",\n",
    "\n",
    "    # Intense or Extreme Emotions\n",
    "    \"Fury\", \"Rage\", \"Hatred\", \"Revenge\", \"Envy\", \"Jealousy\", \"Helplessness\", \"Extreme anxiety\", \"Terror\", \"Panic\",\n",
    "    \"Horror\", \"Shock\", \"Desperation\", \"Uncontrollable anger\", \"Agitation\", \"Paranoia\", \"Exaltation\", \"Overwhelm\",\n",
    "    \"Hysteria\", \"Delirium\",\n",
    "\n",
    "    # Reflective and Complex States\n",
    "    \"Reflection\", \"Existential doubt\", \"Perplexity\", \"Confusion\", \"Curiosity\", \"Philosophical wonder\",\n",
    "    \"Sense of discovery\", \"Restlessness\", \"Disorientation\", \"Intrigue\", \"Skepticism\", \"Caution\", \"Ambivalence\",\n",
    "    \"Expectation\", \"Nostalgia for the future\", \"Transcendence\", \"Spiritual connection\", \"Illusion\",\n",
    "\n",
    "    # Abstract and Sensory States\n",
    "    \"Mystery\", \"Surrealism\", \"Oneirism (dream-like state)\", \"Fantasy\", \"Ecstasy\", \"Emotional fluctuation\", \"Hypnosis\",\n",
    "    \"Sense of grandeur\", \"Emotional minimalism\", \"Evocation of memories\", \"Emotional vertigo\", \"Weightlessness\"\n",
    "]\n"
   ]
  },
  {
   "cell_type": "code",
   "execution_count": 11,
   "metadata": {},
   "outputs": [],
   "source": [
    "prompt_generate_user_text = (\n",
    "    \"You are an expert writer specializing in emotional expression and music therapy. \"\n",
    "    \"Your task is to generate realistic and emotionally rich user descriptions based on a given mood or emotional state.\\n\\n\"\n",
    "    \n",
    "    \"Each description should be personal, introspective, and vivid, as if written by a real person expressing their emotions \"\n",
    "    \"in a diary or personal reflection. The text should naturally incorporate how they feel and, if relevant, how they imagine \"\n",
    "    \"music could capture their emotions.\\n\\n\"\n",
    "\n",
    "    \"Each user text sould not be longer that 4 sentences\"\n",
    "    \"sometimes include explicit request for musical stuff, such as tonality, Tempo, Intensity, Timbre, Rhythm or Articulation. \\n\\n\"\n",
    "    \n",
    "    \"Generate a user text that reflects the given emotional state. The descriptions should feel raw, authentic and human.\\n\\n\"\n",
    "    \n",
    "    \"Provide only the user text, without explanations or additional formatting.\\n\\n\"\n",
    "    \n",
    "    \"### Examples:\\n\\n\"\n",
    "\n",
    "    \"**Input (Mood: Uncertain, reflective):**\\n\"\n",
    "    \"Today I feel a bit strange, like one of those days when everything is fine but something feels out of place.\\n\"\n",
    "    \"I am calm, but there is this sense that I could be doing more or feeling more.\\n\"\n",
    "    \"It’s like being on pause, not sad, but not entirely joyful either.\\n\"\n",
    "    \"I suppose it would be something soft and calm, with a touch of introspection.\\n\\n\"\n",
    "\n",
    "    \"**Input (Mood: Depressed, heavy-hearted):**\\n\"\n",
    "    \"It's one of those days where everything feels heavy, like I'm sinking into myself.\\n\"\n",
    "    \"Even the smallest things seem pointless, and no matter what I do, it feels like there’s no real way out.\\n\"\n",
    "    \"There’s this emptiness that just sits there, quiet but overwhelming.\\n\"\n",
    "    \"If it were music, it would be slow and haunting, something that pulls you deeper with every note.\\n\\n\"\n",
    "\n",
    "    \"**Input (Mood: Joyful, lighthearted):**\\n\"\n",
    "    \"Today feels bright, like the world has this gentle glow to it.\\n\"\n",
    "    \"Everything seems to fit, and even small things bring a kind of quiet happiness.\\n\"\n",
    "    \"If I could describe it as music, it would be in B-flat major, with a light and playful melody, \"\n",
    "    \"something that lifts you up and keeps you smiling.\\n\\n\"\n",
    "\n",
    "    \"---\\n\\n\"\n",
    "    \n",
    "    \"**Now, generate a user text based on this emotional state:** {mood}\"\n",
    ")\n"
   ]
  },
  {
   "cell_type": "code",
   "execution_count": 4,
   "metadata": {},
   "outputs": [],
   "source": [
    "import requests\n",
    "import json\n",
    "import time\n",
    "import random "
   ]
  },
  {
   "cell_type": "code",
   "execution_count": 6,
   "metadata": {},
   "outputs": [],
   "source": [
    "api_key_path = \"api_keys/api_key_user.txt\"\n",
    "\n",
    "with open(api_key_path, \"r\", encoding=\"utf-8\") as file:\n",
    "    api_key_user = file.read().strip()\n",
    "\n",
    "api_url = f\"https://generativelanguage.googleapis.com/v1beta/models/gemini-1.5-flash:generateContent?key={api_key_user}\"\n",
    "\n",
    "headers = {\"Content-Type\": \"application/json\"}"
   ]
  },
  {
   "cell_type": "code",
   "execution_count": 12,
   "metadata": {},
   "outputs": [],
   "source": [
    "generated_texts = []\n",
    "\n",
    "n = 1\n",
    "\n",
    "for i in range(n):\n",
    "    mood = random.choice(emotions)\n",
    "\n",
    "    payload = {\n",
    "        \"contents\": [\n",
    "            {\n",
    "                \"parts\": [{\"text\": prompt_generate_user_text}]\n",
    "            }\n",
    "        ]\n",
    "    }\n",
    "\n",
    "    response = requests.post(api_url, headers=headers, json=payload)\n",
    "\n",
    "    if response.status_code == 200:\n",
    "        result = response.json()\n",
    "        generated_text = result[\"candidates\"][0][\"content\"][\"parts\"][0][\"text\"]\n",
    "        generated_texts.append({\"mood\": f'{mood}_mood_{i+1}', \"text\": generated_text})\n",
    "    else:\n",
    "        print(f\"Error {response.status_code}: {response.json()}\")\n",
    "\n",
    "    time.sleep(2) #to not overload the api\n"
   ]
  },
  {
   "cell_type": "code",
   "execution_count": 13,
   "metadata": {},
   "outputs": [
    {
     "data": {
      "text/plain": [
       "[{'mood': 'Affection_mood_1',\n",
       "  'text': \"Input (Mood: Anxious, restless):\\n\\nI can't seem to settle down, my mind is racing, a whirlwind of thoughts and worries.  Everything feels amplified, even the quiet ticking of the clock is a jarring sound.  I need something to ground me, something with a steady beat but not too intense, maybe a repetitive melody to calm the chaos.  Perhaps something in a minor key, but with a hopeful undercurrent.\\n\"}]"
      ]
     },
     "execution_count": 13,
     "metadata": {},
     "output_type": "execute_result"
    }
   ],
   "source": [
    "generated_texts"
   ]
  },
  {
   "cell_type": "markdown",
   "metadata": {},
   "source": [
    "lets generalisize this stuff with a dunction"
   ]
  },
  {
   "cell_type": "code",
   "execution_count": 22,
   "metadata": {},
   "outputs": [],
   "source": [
    "import requests\n",
    "import time\n",
    "import random\n",
    "\n",
    "api_url = f\"https://generativelanguage.googleapis.com/v1beta/models/gemini-1.5-flash:generateContent?key={api_key_user}\"\n",
    "\n",
    "headers = {\"Content-Type\": \"application/json\"}\n",
    "\n",
    "def generate_texts_from_api(api_url=api_url , headers=headers, emotions=emotions, prompt_generate_user_text=prompt_generate_user_text, n=1, sleep_time=2):\n",
    "    \"\"\"\n",
    "    Generates emotional user texts using an external API.\n",
    "    \n",
    "    Parameters:\n",
    "        api_url (str): The API endpoint URL.\n",
    "        headers (dict): The headers for the API request.\n",
    "        emotions (list): A list of emotions to choose from.\n",
    "        prompt_generate_user_text (str): The prompt template for the API request.\n",
    "        n (int): Number of texts to generate (default is 1).\n",
    "        sleep_time (int): Time to wait between requests to avoid API overload (default is 2 seconds).\n",
    "    \n",
    "    Returns:\n",
    "        list: A list of dictionaries containing generated texts with their corresponding mood.\n",
    "    \"\"\"\n",
    "    generated_texts = []\n",
    "\n",
    "    for i in range(n):\n",
    "        mood = random.choice(emotions)\n",
    "\n",
    "        payload = {\n",
    "            \"contents\": [\n",
    "                {\n",
    "                    \"parts\": [{\"text\": prompt_generate_user_text}]\n",
    "                }\n",
    "            ]\n",
    "        }\n",
    "\n",
    "        response = requests.post(api_url, headers=headers, json=payload)\n",
    "\n",
    "        if response.status_code == 200:\n",
    "            result = response.json()\n",
    "            generated_text = result[\"candidates\"][0][\"content\"][\"parts\"][0][\"text\"]\n",
    "            generated_texts.append({f\"mood_{i+1}\": mood, f\"text_{i+1}\": generated_text})\n",
    "        else:\n",
    "            print(f\"Error {response.status_code}: {response.json()}\")\n",
    "\n",
    "        time.sleep(sleep_time)  # Avoid API overload\n",
    "\n",
    "    return generated_texts\n"
   ]
  },
  {
   "cell_type": "code",
   "execution_count": 15,
   "metadata": {},
   "outputs": [
    {
     "data": {
      "text/plain": [
       "[{'mood': 'Anxiety_mood_1',\n",
       "  'text': 'Input (Mood: Anxious, on edge):\\n\\nI feel like a tightrope walker, constantly teetering on the edge of something.  My heart pounds, a frantic drumbeat against my ribs.  I need something to ground me, something with a steady, low pulse, maybe a cello or a deep bass.  Something repetitive, but not overwhelming, to help me find my center.\\n'},\n",
       " {'mood': 'Exaltation_mood_2',\n",
       "  'text': 'Overwhelmed.  A tidal wave of emotions crashing over me, leaving me breathless and unsteady.  I need something to ground me, something strong and steady but also soaring, maybe a powerful cello piece with a driving rhythm.  It needs to be cathartic.\\n'},\n",
       " {'mood': 'Enthusiasm_mood_3',\n",
       "  'text': 'Input (Mood: Anxious, restless):\\n\\nI can\\'t seem to sit still; my mind races with \"what ifs\" and worries.  A low, throbbing bassline would capture the feeling of unease perfectly, maybe with dissonant chords to mirror the chaos in my head.  The tempo needs to be fast, frantic even, reflecting this restless energy.  I need something to ground me, but also something that acknowledges the intensity of this feeling.\\n'},\n",
       " {'mood': 'Distrust_mood_4',\n",
       "  'text': 'Input (Mood: Anxious, on edge):\\n\\nI feel like a tightrope walker, constantly teetering on the edge.  My heart hammers against my ribs, a frantic drumbeat.  Everything feels heightened, sounds sharper, colors more intense.  I need music that matches this frenetic energy – fast tempo, dissonant chords, maybe some distorted guitars to capture the feeling of impending chaos.\\n'},\n",
       " {'mood': 'Happiness_mood_5',\n",
       "  'text': 'Overwhelmed.  A chaotic storm inside, a jumble of anxieties and half-formed thoughts. I need something intense, maybe a frantic, dissonant piece to match the noise in my head; something fast, loud, and cathartic.  It needs to build, then crash.\\n'}]"
      ]
     },
     "execution_count": 15,
     "metadata": {},
     "output_type": "execute_result"
    }
   ],
   "source": [
    "generated_texts_1 = generate_texts_from_api(api_url, headers, emotions, prompt_generate_user_text, n=5)\n",
    "generated_texts_1"
   ]
  },
  {
   "cell_type": "code",
   "execution_count": 16,
   "metadata": {},
   "outputs": [
    {
     "data": {
      "text/plain": [
       "5"
      ]
     },
     "execution_count": 16,
     "metadata": {},
     "output_type": "execute_result"
    }
   ],
   "source": [
    "len(generated_texts_1)"
   ]
  },
  {
   "cell_type": "markdown",
   "metadata": {},
   "source": [
    "Let’s expand it to enhance our database for corpus creation"
   ]
  },
  {
   "cell_type": "code",
   "execution_count": 17,
   "metadata": {},
   "outputs": [
    {
     "name": "stdout",
     "output_type": "stream",
     "text": [
      "Error 429: {'error': {'code': 429, 'message': 'Resource has been exhausted (e.g. check quota).', 'status': 'RESOURCE_EXHAUSTED'}}\n",
      "Error 429: {'error': {'code': 429, 'message': 'Resource has been exhausted (e.g. check quota).', 'status': 'RESOURCE_EXHAUSTED'}}\n",
      "Error 429: {'error': {'code': 429, 'message': 'Resource has been exhausted (e.g. check quota).', 'status': 'RESOURCE_EXHAUSTED'}}\n",
      "Error 429: {'error': {'code': 429, 'message': 'Resource has been exhausted (e.g. check quota).', 'status': 'RESOURCE_EXHAUSTED'}}\n",
      "Error 429: {'error': {'code': 429, 'message': 'Resource has been exhausted (e.g. check quota).', 'status': 'RESOURCE_EXHAUSTED'}}\n",
      "Error 429: {'error': {'code': 429, 'message': 'Resource has been exhausted (e.g. check quota).', 'status': 'RESOURCE_EXHAUSTED'}}\n",
      "Error 429: {'error': {'code': 429, 'message': 'Resource has been exhausted (e.g. check quota).', 'status': 'RESOURCE_EXHAUSTED'}}\n",
      "Error 429: {'error': {'code': 429, 'message': 'Resource has been exhausted (e.g. check quota).', 'status': 'RESOURCE_EXHAUSTED'}}\n",
      "Error 429: {'error': {'code': 429, 'message': 'Resource has been exhausted (e.g. check quota).', 'status': 'RESOURCE_EXHAUSTED'}}\n",
      "Error 429: {'error': {'code': 429, 'message': 'Resource has been exhausted (e.g. check quota).', 'status': 'RESOURCE_EXHAUSTED'}}\n",
      "Error 429: {'error': {'code': 429, 'message': 'Resource has been exhausted (e.g. check quota).', 'status': 'RESOURCE_EXHAUSTED'}}\n",
      "Error 429: {'error': {'code': 429, 'message': 'Resource has been exhausted (e.g. check quota).', 'status': 'RESOURCE_EXHAUSTED'}}\n",
      "Error 429: {'error': {'code': 429, 'message': 'Resource has been exhausted (e.g. check quota).', 'status': 'RESOURCE_EXHAUSTED'}}\n"
     ]
    },
    {
     "data": {
      "text/plain": [
       "87"
      ]
     },
     "execution_count": 17,
     "metadata": {},
     "output_type": "execute_result"
    }
   ],
   "source": [
    "generated_texts_final = generate_texts_from_api(api_url, headers, emotions, prompt_generate_user_text, n=100)\n",
    "len(generated_texts_final)"
   ]
  },
  {
   "cell_type": "code",
   "execution_count": 23,
   "metadata": {},
   "outputs": [],
   "source": [
    "with open(\"data/generated_texts1.json\", \"w\", encoding=\"utf-8\") as file:\n",
    "    json.dump(generated_texts_final, file, indent=4, ensure_ascii=False)"
   ]
  },
  {
   "cell_type": "code",
   "execution_count": 29,
   "metadata": {},
   "outputs": [
    {
     "data": {
      "text/plain": [
       "2"
      ]
     },
     "execution_count": 29,
     "metadata": {},
     "output_type": "execute_result"
    }
   ],
   "source": [
    "generated_texts_xd = generate_texts_from_api(api_url, headers, emotions, prompt_generate_user_text, n=2, sleep_time=7)\n",
    "len(generated_texts_xd)"
   ]
  },
  {
   "cell_type": "code",
   "execution_count": 31,
   "metadata": {},
   "outputs": [
    {
     "data": {
      "text/plain": [
       "2"
      ]
     },
     "execution_count": 31,
     "metadata": {},
     "output_type": "execute_result"
    }
   ],
   "source": [
    "generated_texts_xd_2 = generate_texts_from_api(api_url, headers, emotions, prompt_generate_user_text, n=2, sleep_time=7)\n",
    "len(generated_texts_xd_2)"
   ]
  },
  {
   "cell_type": "code",
   "execution_count": 30,
   "metadata": {},
   "outputs": [
    {
     "data": {
      "text/plain": [
       "[{'mood_1': 'Admiration',\n",
       "  'text_1': \"Input (Mood: Anxious, restless):\\n\\nI can't seem to settle down; my mind is racing, a whirlwind of half-formed thoughts and worries.  My chest feels tight, and I'm constantly fidgeting.  It's like a storm inside, never quite breaking but always threatening to. I need music to ground me—something fast but controlled, maybe a driving beat with a minor key to match the unease.\\n\"},\n",
       " {'mood_2': 'Security',\n",
       "  'text_2': \"Input (Mood: Anxious, restless):\\n\\nI can't seem to sit still; my mind races with worries, big and small.  A low thrum of unease vibrates beneath my skin, a constant hum of unease.  It feels like a storm brewing inside, threatening to break. I need music – something fast and chaotic, maybe dissonant, to match this frantic energy, but with a driving beat to help me ground myself.\\n\"}]"
      ]
     },
     "execution_count": 30,
     "metadata": {},
     "output_type": "execute_result"
    }
   ],
   "source": [
    "generated_texts_xd"
   ]
  },
  {
   "cell_type": "code",
   "execution_count": 32,
   "metadata": {},
   "outputs": [
    {
     "data": {
      "text/plain": [
       "[{'mood_1': 'Existential doubt',\n",
       "  'text_1': \"Input (Mood: Anxious, restless):\\n\\nI can't seem to settle down, my mind races with a million thoughts, all at once.  My heart pounds a frantic rhythm against my ribs, and I feel trapped in this restless energy.  I need music to slow it all down, something with a slow tempo and calming timbre, maybe in a minor key to reflect this feeling of unease.  Something soothing, please, to quiet the storm inside.\\n\"},\n",
       " {'mood_2': 'Oneirism (dream-like state)',\n",
       "  'text_2': \"Input (Mood: Anxious, overwhelmed):\\n\\nMy chest feels tight, like it's trying to burst out of my ribs.  Thoughts are racing, a chaotic symphony of worry.  I need something to ground me, something slow and repetitive, maybe in a minor key to acknowledge the darkness but with a steady beat to keep me from completely unraveling.  Please, something calming but strong, something that anchors me.\\n\"}]"
      ]
     },
     "execution_count": 32,
     "metadata": {},
     "output_type": "execute_result"
    }
   ],
   "source": [
    "generated_texts_xd_2"
   ]
  },
  {
   "cell_type": "code",
   "execution_count": 34,
   "metadata": {},
   "outputs": [
    {
     "data": {
      "text/plain": [
       "[{'mood_1': 'Existential doubt',\n",
       "  'text_1': \"Input (Mood: Anxious, restless):\\n\\nI can't seem to settle down, my mind races with a million thoughts, all at once.  My heart pounds a frantic rhythm against my ribs, and I feel trapped in this restless energy.  I need music to slow it all down, something with a slow tempo and calming timbre, maybe in a minor key to reflect this feeling of unease.  Something soothing, please, to quiet the storm inside.\\n\"},\n",
       " {'mood_2': 'Oneirism (dream-like state)',\n",
       "  'text_2': \"Input (Mood: Anxious, overwhelmed):\\n\\nMy chest feels tight, like it's trying to burst out of my ribs.  Thoughts are racing, a chaotic symphony of worry.  I need something to ground me, something slow and repetitive, maybe in a minor key to acknowledge the darkness but with a steady beat to keep me from completely unraveling.  Please, something calming but strong, something that anchors me.\\n\"},\n",
       " {'mood_1': 'Admiration',\n",
       "  'text_1': \"Input (Mood: Anxious, restless):\\n\\nI can't seem to settle down; my mind is racing, a whirlwind of half-formed thoughts and worries.  My chest feels tight, and I'm constantly fidgeting.  It's like a storm inside, never quite breaking but always threatening to. I need music to ground me—something fast but controlled, maybe a driving beat with a minor key to match the unease.\\n\"},\n",
       " {'mood_2': 'Security',\n",
       "  'text_2': \"Input (Mood: Anxious, restless):\\n\\nI can't seem to sit still; my mind races with worries, big and small.  A low thrum of unease vibrates beneath my skin, a constant hum of unease.  It feels like a storm brewing inside, threatening to break. I need music – something fast and chaotic, maybe dissonant, to match this frantic energy, but with a driving beat to help me ground myself.\\n\"}]"
      ]
     },
     "execution_count": 34,
     "metadata": {},
     "output_type": "execute_result"
    }
   ],
   "source": [
    "movida1 = generated_texts_xd_2 + generated_texts_xd\n",
    "movida1"
   ]
  },
  {
   "cell_type": "code",
   "execution_count": 44,
   "metadata": {},
   "outputs": [],
   "source": [
    "api_key_path = \"api_keys/api_key_user.txt\"\n",
    "\n",
    "with open(api_key_path, \"r\", encoding=\"utf-8\") as file:\n",
    "    api_key_user = file.read().strip()\n",
    "\n",
    "url = f\"https://generativelanguage.googleapis.com/v1beta/models/gemini-1.5-flash:generateContent?key={api_key_user}\"\n",
    "\n",
    "cabec = {\"Content-Type\": \"application/json\"}"
   ]
  },
  {
   "cell_type": "code",
   "execution_count": 46,
   "metadata": {},
   "outputs": [],
   "source": [
    "emot = [\n",
    "    # Positive Emotions\n",
    "    \"Joy\", \"Euphoria\", \"Happiness\", \"Optimism\", \"Hope\", \"Enthusiasm\", \"Inspiration\", \"Love\", \"Affection\", \"Gratitude\",\n",
    "    \"Empathy\", \"Inner peace\", \"Serenity\", \"Calmness\", \"Relaxation\", \"Satisfaction\", \"Pride\", \"Motivation\", \"Admiration\",\n",
    "    \"Awe\", \"Confidence\", \"Freedom\", \"Security\", \"Fulfillment\", \"Harmony\",\n",
    "\n",
    "    # Negative Emotions\n",
    "    \"Sadness\", \"Nostalgia\", \"Melancholy\", \"Loneliness\", \"Hopelessness\", \"Anguish\", \"Anxiety\", \"Fear\", \"Insecurity\",\n",
    "    \"Doubt\", \"Frustration\", \"Boredom\", \"Resignation\", \"Emptiness\", \"Disappointment\", \"Guilt\", \"Shame\", \"Remorse\",\n",
    "    \"Sorrow\", \"Grief\", \"Defeat\", \"Distress\", \"Distrust\", \"Emotional pain\", \"Helplessness\",\n",
    "\n",
    "    # Intense or Extreme Emotions\n",
    "    \"Fury\", \"Rage\", \"Hatred\", \"Revenge\", \"Envy\", \"Jealousy\", \"Helplessness\", \"Extreme anxiety\", \"Terror\", \"Panic\",\n",
    "    \"Horror\", \"Shock\", \"Desperation\", \"Uncontrollable anger\", \"Agitation\", \"Paranoia\", \"Exaltation\", \"Overwhelm\",\n",
    "    \"Hysteria\", \"Delirium\",\n",
    "\n",
    "    # Reflective and Complex States\n",
    "    \"Reflection\", \"Existential doubt\", \"Perplexity\", \"Confusion\", \"Curiosity\", \"Philosophical wonder\",\n",
    "    \"Sense of discovery\", \"Restlessness\", \"Disorientation\", \"Intrigue\", \"Skepticism\", \"Caution\", \"Ambivalence\",\n",
    "    \"Expectation\", \"Nostalgia for the future\", \"Transcendence\", \"Spiritual connection\", \"Illusion\",\n",
    "\n",
    "    # Abstract and Sensory States\n",
    "    \"Mystery\", \"Surrealism\", \"Oneirism (dream-like state)\", \"Fantasy\", \"Ecstasy\", \"Emotional fluctuation\", \"Hypnosis\",\n",
    "    \"Sense of grandeur\", \"Emotional minimalism\", \"Evocation of memories\", \"Emotional vertigo\", \"Weightlessness\"\n",
    "]\n"
   ]
  },
  {
   "cell_type": "code",
   "execution_count": 47,
   "metadata": {},
   "outputs": [],
   "source": [
    "prompt_user_text = (\n",
    "    \"You are an expert writer specializing in emotional expression and music therapy. \"\n",
    "    \"Your task is to generate realistic and emotionally rich user descriptions based on a given mood or emotional state.\\n\\n\"\n",
    "    \n",
    "    \"Each description should be personal, introspective, and vivid, as if written by a real person expressing their emotions \"\n",
    "    \"in a diary or personal reflection. The text should naturally incorporate how they feel and, if relevant, how they imagine \"\n",
    "    \"music could capture their emotions.\\n\\n\"\n",
    "\n",
    "    \"Each user text sould not be longer that 4 sentences\"\n",
    "    \"sometimes include explicit request for musical stuff, such as tonality, Tempo, Intensity, Timbre, Rhythm or Articulation. \\n\\n\"\n",
    "    \n",
    "    \"Generate a user text that reflects the given emotional state. The descriptions should feel raw, authentic and human.\\n\\n\"\n",
    "    \n",
    "    \"Provide only the user text, without explanations or additional formatting.\\n\\n\"\n",
    "    \n",
    "    \"### Examples:\\n\\n\"\n",
    "\n",
    "    \"**Input (Mood: Uncertain, reflective):**\\n\"\n",
    "    \"Today I feel a bit strange, like one of those days when everything is fine but something feels out of place.\\n\"\n",
    "    \"I am calm, but there is this sense that I could be doing more or feeling more.\\n\"\n",
    "    \"It’s like being on pause, not sad, but not entirely joyful either.\\n\"\n",
    "    \"I suppose it would be something soft and calm, with a touch of introspection.\\n\\n\"\n",
    "\n",
    "    \"**Input (Mood: Depressed, heavy-hearted):**\\n\"\n",
    "    \"It's one of those days where everything feels heavy, like I'm sinking into myself.\\n\"\n",
    "    \"Even the smallest things seem pointless, and no matter what I do, it feels like there’s no real way out.\\n\"\n",
    "    \"There’s this emptiness that just sits there, quiet but overwhelming.\\n\"\n",
    "    \"If it were music, it would be slow and haunting, something that pulls you deeper with every note.\\n\\n\"\n",
    "\n",
    "    \"**Input (Mood: Joyful, lighthearted):**\\n\"\n",
    "    \"Today feels bright, like the world has this gentle glow to it.\\n\"\n",
    "    \"Everything seems to fit, and even small things bring a kind of quiet happiness.\\n\"\n",
    "    \"If I could describe it as music, it would be in B-flat major, with a light and playful melody, \"\n",
    "    \"something that lifts you up and keeps you smiling.\\n\\n\"\n",
    "\n",
    "    \"---\\n\\n\"\n",
    "    \n",
    "    \"**Now, generate a user text based on this emotional state:** {mood}\"\n",
    ")\n"
   ]
  },
  {
   "cell_type": "code",
   "execution_count": 49,
   "metadata": {},
   "outputs": [],
   "source": [
    "import requests\n",
    "import time\n",
    "import random\n",
    "\n",
    "def generate_texts_user(api_url=url, headers=cabec, emotions=emot, prompt_generate_user_text=prompt_user_text, n=2, sleep_time1=2, sleep_time2=2, batch_size =2):\n",
    "    \"\"\"\n",
    "    Generates emotional user texts using an external API.\n",
    "    \n",
    "    Parameters:\n",
    "        api_url (str): The API endpoint URL.\n",
    "        headers (dict): The headers for the API request.\n",
    "        emotions (list): A list of emotions to choose from.\n",
    "        prompt_generate_user_text (str): The prompt template for the API request.\n",
    "        n (int): Number of texts to generate (default is 1).\n",
    "        sleep_time1 (int): Time to wait between requests to avoid API overload (default is 2 seconds).\n",
    "        sleep_time2 (int): Time to wait between batchs to avoid API overload (default is 2 seconds).\n",
    "        batch_size (int): Number of batchs to sub-divide n.\n",
    "    \n",
    "    Returns:\n",
    "        list: A list of dictionaries containing generated texts with their corresponding mood.\n",
    "    \"\"\"\n",
    "    generated_texts = []\n",
    "\n",
    "    for batch_start in range(0, n, batch_size):\n",
    "        print(f'executing batch {batch_start} of {batch_size}')\n",
    "        batch_end = min(batch_start + batch_size, n)\n",
    "        batch_texts = []\n",
    "        \n",
    "        for i in range(batch_start, batch_end):\n",
    "            mood = random.choice(emotions)\n",
    "            payload = {\"contents\": [{\"parts\": [{\"text\": prompt_generate_user_text}]}]}\n",
    "            response = requests.post(api_url, headers=headers, json=payload)\n",
    "            \n",
    "            if response.status_code == 200:\n",
    "                result = response.json()\n",
    "                generated_text = result[\"candidates\"][0][\"content\"][\"parts\"][0][\"text\"]\n",
    "                batch_texts.append({f\"mood_{i+1}\": mood, f\"text_{i+1}\": generated_text})\n",
    "            else:\n",
    "                print(f\"Error {response.status_code}: {response.json()}\")\n",
    "            \n",
    "            time.sleep(sleep_time1)  \n",
    "        \n",
    "        generated_texts.extend(batch_texts)  \n",
    "\n",
    "        time.sleep(sleep_time2)\n",
    "    \n",
    "    return generated_texts\n"
   ]
  },
  {
   "cell_type": "code",
   "execution_count": 50,
   "metadata": {},
   "outputs": [],
   "source": [
    "mamahuevo = generate_texts_user(n = 12, batch_size=5)"
   ]
  },
  {
   "cell_type": "code",
   "execution_count": 51,
   "metadata": {},
   "outputs": [
    {
     "name": "stdout",
     "output_type": "stream",
     "text": [
      "12\n"
     ]
    },
    {
     "data": {
      "text/plain": [
       "[{'mood_1': 'Extreme anxiety',\n",
       "  'text_1': \"{mood: Anxious, restless}\\n\\nI can't seem to settle down, my mind is racing, jumping from one thought to the next.  Everything feels urgent, even though nothing is actually wrong.  It's a prickly, jittery feeling.  I need music to ground me – something fast-paced but with a steady beat, maybe minor key, to acknowledge the unease but not let it overwhelm me.\\n\"},\n",
       " {'mood_2': 'Desperation',\n",
       "  'text_2': \"Input (Mood: Anxious, restless):\\n\\nI can't seem to settle down; my mind races with worries, big and small.  My heart pounds a frantic rhythm against my ribs, and I feel this constant pressure building. I need something to ground me, something with a steady beat but also a sense of release, maybe something in a minor key but with a driving energy to push through this.  It needs to be intense but not overwhelming.\\n\"},\n",
       " {'mood_3': 'Distrust',\n",
       "  'text_3': \"Input (Mood: Anxious, restless):\\n\\nI can't seem to sit still; my mind races with worries, big and small.  A constant low hum of unease vibrates beneath my skin.  I need something to ground me, maybe a repetitive rhythm, something slow but intense, to calm the chaos.  Something dark but comforting; a low cello perhaps.\\n\"},\n",
       " {'mood_4': 'Happiness',\n",
       "  'text_4': \"Input (Mood: Anxious, restless):\\n\\nI can't seem to settle down; my mind is racing, jumping from one worry to the next.  My chest feels tight, and I'm on edge, constantly anticipating something bad.  It's like a storm inside, chaotic and unpredictable. I need music that matches that frantic energy—fast, maybe dissonant, to reflect this turmoil.\\n\"},\n",
       " {'mood_5': 'Inner peace',\n",
       "  'text_5': \"Input (Mood: Anxious, restless):\\n\\nI can't seem to sit still, my mind racing with a million thoughts, all buzzing at once.  My chest feels tight, and a nervous energy is coursing through me.  I need something to ground me, something with a driving beat but not too chaotic. Maybe a repetitive, slightly melancholic melody in a minor key would help.\\n\"},\n",
       " {'mood_6': 'Hopelessness',\n",
       "  'text_6': \"Input (Mood: Anxious, restless):\\n\\nI can't seem to settle down; my mind races with a thousand thoughts, all clamoring for attention.  Everything feels heightened, sharp, and on edge. I need something to ground me, maybe something slow and repetitive, but with a driving beat underneath.  Something to match the frantic energy trapped inside.\\n\"},\n",
       " {'mood_7': 'Hopelessness',\n",
       "  'text_7': 'Input (Mood: Anxious, restless):\\n\\nI can\\'t seem to settle down; my mind races with \"what ifs\" and worries.  My heart pounds like a drum solo gone wrong, a frantic rhythm that won\\'t stop. I need something to ground me, something slow, maybe in a minor key, but with a steady beat to calm this internal storm.  Something with a warm, comforting timbre would help.\\n'},\n",
       " {'mood_8': 'Envy',\n",
       "  'text_8': 'Input (Mood: Anxious, overwhelmed):\\n\\nMy chest feels tight, like it\\'s trying to burst out of my ribs.  Thoughts race, a whirlwind of worries and \"what ifs\".  I need something to ground me, something slow and repetitive, maybe a droning cello to calm the storm in my head.  Something dark but not hopeless, please.\\n'},\n",
       " {'mood_9': 'Grief',\n",
       "  'text_9': \"Input (Mood: Anxious, overwhelmed):\\n\\nI feel like I'm drowning in a sea of to-dos, each wave crashing over me with a new worry.  My chest feels tight, my breath shallow.  Everything feels urgent, chaotic. I need music to calm the storm—something slow, repetitive, maybe in minor key, with a steady, grounding beat.\\n\"},\n",
       " {'mood_10': 'Distrust',\n",
       "  'text_10': \"Input (Mood: Anxious, restless):\\n\\nI can't seem to sit still; my mind races with a million things, all at once.  A low hum of unease is constantly present, a feeling of impending doom.  I need something to ground me, maybe something repetitive and calming but with a driving beat underneath.  Something in a minor key, but with a hint of hope, please.\\n\"},\n",
       " {'mood_11': 'Confusion',\n",
       "  'text_11': \"Input (Mood: Anxious, restless):\\n\\nI can't seem to sit still, my mind races with worries, both big and small.  Everything feels amplified, even the quiet hum of the fridge is unnerving.  I need something to ground me, maybe a repetitive beat, something slow but intense, maybe in a minor key.  A cello's mournful tone might help ease this feeling.\\n\"},\n",
       " {'mood_12': 'Frustration',\n",
       "  'text_12': \"Input (Mood: Anxious, on edge):\\n\\nI feel like a tightly wound spring, about to snap.  Every little noise makes me jump, and my heart races even when I'm just sitting still.  The silence feels deafening, and I just need something to calm the storm inside. I need music that is slow, ambient, maybe some low drones to counteract the high-pitched anxiety in my head.\\n\"}]"
      ]
     },
     "execution_count": 51,
     "metadata": {},
     "output_type": "execute_result"
    }
   ],
   "source": [
    "print(len(mamahuevo))\n",
    "mamahuevo"
   ]
  },
  {
   "cell_type": "markdown",
   "metadata": {},
   "source": [
    "----"
   ]
  },
  {
   "cell_type": "code",
   "execution_count": 54,
   "metadata": {},
   "outputs": [],
   "source": [
    "final_generated_texts = generate_texts_user(n = 300, batch_size=25, sleep_time1=5, sleep_time2=7)"
   ]
  },
  {
   "cell_type": "code",
   "execution_count": 55,
   "metadata": {},
   "outputs": [
    {
     "name": "stdout",
     "output_type": "stream",
     "text": [
      "300\n"
     ]
    }
   ],
   "source": [
    "print(len(final_generated_texts))"
   ]
  },
  {
   "cell_type": "code",
   "execution_count": 57,
   "metadata": {},
   "outputs": [],
   "source": [
    "with open('data/final_generated_texts.json', 'w', encoding='utf-8') as file:\n",
    "    json.dump(final_generated_texts, file, indent=4, ensure_ascii=False)\n"
   ]
  },
  {
   "cell_type": "markdown",
   "metadata": {},
   "source": [
    "----"
   ]
  },
  {
   "cell_type": "code",
   "execution_count": 58,
   "metadata": {},
   "outputs": [],
   "source": [
    "mierda_prueba =  generate_texts_user(n = 5, batch_size=1, sleep_time1=2, sleep_time2=2)"
   ]
  },
  {
   "cell_type": "code",
   "execution_count": 59,
   "metadata": {},
   "outputs": [],
   "source": [
    "with open('data/mierda_prueba.json', 'w', encoding='utf-8') as file:\n",
    "    json.dump(mierda_prueba, file, indent=4, ensure_ascii=False)"
   ]
  },
  {
   "cell_type": "code",
   "execution_count": null,
   "metadata": {},
   "outputs": [],
   "source": []
  }
 ],
 "metadata": {
  "kernelspec": {
   "display_name": "Python 3",
   "language": "python",
   "name": "python3"
  },
  "language_info": {
   "codemirror_mode": {
    "name": "ipython",
    "version": 3
   },
   "file_extension": ".py",
   "mimetype": "text/x-python",
   "name": "python",
   "nbconvert_exporter": "python",
   "pygments_lexer": "ipython3",
   "version": "3.12.6"
  }
 },
 "nbformat": 4,
 "nbformat_minor": 2
}
