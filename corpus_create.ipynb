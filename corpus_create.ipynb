{
 "cells": [
  {
   "cell_type": "code",
   "execution_count": 8,
   "metadata": {},
   "outputs": [],
   "source": [
    "import json\n",
    "import nltk \n",
    "import numpy as np\n",
    "import random\n",
    "import string"
   ]
  },
  {
   "cell_type": "code",
   "execution_count": 24,
   "metadata": {},
   "outputs": [],
   "source": [
    "path_feature_database = 'data/all_extracted_features.json'\n",
    "with open(path_feature_database, \"r\", encoding=\"utf-8\") as file:\n",
    "    corpus_data = json.load(file)"
   ]
  },
  {
   "cell_type": "code",
   "execution_count": 9,
   "metadata": {},
   "outputs": [],
   "source": [
    "# f = open(r'C:\\Users\\34640\\Desktop\\VSCode\\z_Cursos_Python\\chatbots\\data\\all_extracted_features.txt', 'r', errors= 'ignore')\n",
    "# raw = f.read()"
   ]
  },
  {
   "cell_type": "code",
   "execution_count": 21,
   "metadata": {},
   "outputs": [
    {
     "name": "stdout",
     "output_type": "stream",
     "text": [
      "[\n",
      "    {\n",
      "        \"mood_1\": \"Weightlessness\",\n",
      "        \"text_1\": \"Input (Mood: Anxious, restless):\\n\\nI can't seem to sit still, my mind racing with \\\"what ifs\\\" and worst-case scenarios.  A low, throbbing bassline would capture that feeling of unease perfectly, maybe with high-pitched strings weaving in and out, mirroring the chaotic thoughts.  It needs to be fast, frantic even, but with a driving rhythm to keep the anxiety from overwhelming everything.  I need something to ground me, but something that acknowledges this feeling.\\n\",\n",
      "        \"features_1\": \"```json\\n{\\n  \\\"Tempo\\\": \\\"140 bpm\\\",\\n  \\\"Intensity/Dynamics\\\": \\\"mf - crescendo to ff during the \\\"what ifs\\\" section, then diminuendo to mp\\\",\\n  \\\"Timbre\\\": \\\"Dark, with a focus on low \n"
     ]
    }
   ],
   "source": [
    "# print(raw[:750])"
   ]
  },
  {
   "cell_type": "markdown",
   "metadata": {},
   "source": [
    "Ensuring that our raw corpus retains '\\n' and similar markers is crucial, allowing our future chatbot to correctly segment sentences and paragraphs."
   ]
  },
  {
   "cell_type": "markdown",
   "metadata": {},
   "source": [
    "## prepropecing the corpus\n",
    "\n",
    "This stage will involve several NLP techniques, including tokenization, stop word removal, lemmatization, and stemming"
   ]
  },
  {
   "cell_type": "code",
   "execution_count": 14,
   "metadata": {},
   "outputs": [],
   "source": [
    "# nltk.download('punkt')\n",
    "# nltk.download('wordnet') \n",
    "# make sur to have this libraries "
   ]
  },
  {
   "cell_type": "code",
   "execution_count": 25,
   "metadata": {},
   "outputs": [],
   "source": [
    "#extracts the preprocessed texts from the corpus to maintain the reference to their features\n",
    "corpus_texts = []\n",
    "corpus_features = []  \n",
    "\n",
    "for entry in corpus_data:\n",
    "    for key in entry:\n",
    "        if key.startswith(\"text_\"):  \n",
    "            corpus_texts.append(entry[key]) \n",
    "            corpus_features.append(entry)  #keeps the whole entry (mood featurues and text)"
   ]
  },
  {
   "cell_type": "markdown",
   "metadata": {},
   "source": [
    "We subdivide the raw corpus to facilitate later vectorization of both the users' texts in the corpus and the new input from the person interacting with the bot. This allows us to identify the most similar text using cosine distance and retrieve its corresponding features"
   ]
  },
  {
   "cell_type": "code",
   "execution_count": 33,
   "metadata": {},
   "outputs": [
    {
     "data": {
      "text/plain": [
       "\"Overwhelmed.  A cacophony of noise in my head, a frantic rhythm that won't slow down.  I need music to match – something chaotic but ultimately resolving, maybe a crescendo into a quiet, peaceful ending.  Please, something to calm this storm.\\n\""
      ]
     },
     "execution_count": 33,
     "metadata": {},
     "output_type": "execute_result"
    }
   ],
   "source": [
    "corpus_texts[2]"
   ]
  },
  {
   "cell_type": "code",
   "execution_count": 34,
   "metadata": {},
   "outputs": [],
   "source": [
    "lemmatizer = nltk.stem.WordNetLemmatizer()\n",
    "remove_punct_dict = dict((ord(punct), None) for punct in string.punctuation)"
   ]
  },
  {
   "cell_type": "code",
   "execution_count": 35,
   "metadata": {},
   "outputs": [],
   "source": [
    "def preprocess_text(text):\n",
    "    ''' \n",
    "    tokenizes, removes punctuation and lemmatizes\n",
    "    '''\n",
    "    tokens = nltk.word_tokenize(text.lower().translate(remove_punct_dict))\n",
    "    return \" \".join(lemmatizer.lemmatize(token) for token in tokens)"
   ]
  },
  {
   "cell_type": "code",
   "execution_count": 36,
   "metadata": {},
   "outputs": [],
   "source": [
    "from sklearn.feature_extraction.text import TfidfVectorizer\n",
    "from sklearn.metrics.pairwise import cosine_similarity\n",
    "\n",
    "vectorizer = TfidfVectorizer()\n",
    "tfidf_matrix = vectorizer.fit_transform(corpus_texts)"
   ]
  },
  {
   "cell_type": "code",
   "execution_count": 37,
   "metadata": {},
   "outputs": [],
   "source": [
    "def chatbot_response(user_input):\n",
    "    \"\"\" Encuentra la respuesta más relevante en el corpus usando TF-IDF y similitud coseno \"\"\"\n",
    "    \n",
    "    processed_input = preprocess_text(user_input)\n",
    "\n",
    "    user_vector = vectorizer.transform([processed_input])\n",
    "\n",
    "    similarities = cosine_similarity(user_vector, tfidf_matrix)\n",
    "\n",
    "    # find best index to return the features\n",
    "    best_match_idx = np.argmax(similarities)\n",
    "    best_match_features = corpus_features[best_match_idx]\n",
    "\n",
    "    return best_match_features"
   ]
  },
  {
   "cell_type": "markdown",
   "metadata": {},
   "source": [
    "---\n",
    "\n",
    "## Usage example"
   ]
  },
  {
   "cell_type": "code",
   "execution_count": null,
   "metadata": {},
   "outputs": [
    {
     "name": "stdout",
     "output_type": "stream",
     "text": [
      "🤖 We are processing your feelings to return the best musical match for you... ⏳\n",
      "\n",
      "🤖 here it is!:\n",
      "{\n",
      "    \"mood_233\": \"Pride\",\n",
      "    \"text_233\": \"Input (Mood: Anxious, restless):\\n\\nI can't seem to sit still, my mind racing with a million things.  A low hum of unease is constantly there, a feeling of impending doom I can't quite shake.  I need something fast-paced, maybe even dissonant, to match this internal chaos – something that will help me process all this energy.  Something abrasive and urgent,  to mirror the feeling of being trapped in my own head.\\n\",\n",
      "    \"features_233\": \"```json\\n{\\n  \\\"Tempo\\\": \\\"Allegro molto (160 bpm)\\\",\\n  \\\"Intensity/Dynamics\\\": \\\"mf-ff, frequent crescendos, sudden sforzandi\\\",\\n  \\\"Timbre\\\": \\\"Dark, abrasive; use of brass and distorted electric guitar\\\",\\n  \\\"Rhythm\\\": \\\"Irregular, syncopated, polyrhythmic sections\\\",\\n  \\\"Harmonic progression\\\": \\\"e minor - B minor - G major - D major - C major\\\",\\n  \\\"Melody\\\": \\\"Fragmentary, jagged, rapidly ascending and descending lines\\\",\\n  \\\"Tonality/Mode\\\": \\\"e minor\\\",\\n  \\\"Articulation\\\": \\\"Staccato, marcato\\\",\\n  \\\"Silence\\\": \\\"Minimal; brief, jarring rests to heighten tension\\\"\\n}\\n```\\n\"\n",
      "}\n",
      "hope it helped :)\n",
      "🤖 good bye!\n"
     ]
    }
   ],
   "source": [
    "while True:\n",
    "    user_input = input(\"\\n👤 Share how you're feeling or what's on your mind (or type 'exit' to close this session): \")\n",
    "    \n",
    "    if user_input.lower() == \"exit\":\n",
    "        print(\"\\n🤖 good bye!\")\n",
    "        break\n",
    "    \n",
    "    print('🤖 We are processing your feelings to return the best musical match for you... ⏳')\n",
    "    response = chatbot_response(user_input)\n",
    "    print(\"\\n🤖 here it is!:\")\n",
    "    print(json.dumps(response, indent=4, ensure_ascii=False))\n",
    "    print('hope it helped :)')"
   ]
  },
  {
   "cell_type": "code",
   "execution_count": null,
   "metadata": {},
   "outputs": [],
   "source": []
  }
 ],
 "metadata": {
  "kernelspec": {
   "display_name": "Python 3",
   "language": "python",
   "name": "python3"
  },
  "language_info": {
   "codemirror_mode": {
    "name": "ipython",
    "version": 3
   },
   "file_extension": ".py",
   "mimetype": "text/x-python",
   "name": "python",
   "nbconvert_exporter": "python",
   "pygments_lexer": "ipython3",
   "version": "3.12.6"
  }
 },
 "nbformat": 4,
 "nbformat_minor": 2
}
