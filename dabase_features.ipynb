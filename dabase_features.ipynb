{
 "cells": [
  {
   "cell_type": "code",
   "execution_count": 1,
   "metadata": {},
   "outputs": [],
   "source": [
    "import requests\n",
    "import json\n",
    "import time\n",
    "import random "
   ]
  },
  {
   "cell_type": "code",
   "execution_count": 2,
   "metadata": {},
   "outputs": [],
   "source": [
    "with open('data/merged_data.json', 'r',  encoding=\"utf-8\") as file:\n",
    "    additiona_data = json.load(file)"
   ]
  },
  {
   "cell_type": "code",
   "execution_count": 3,
   "metadata": {},
   "outputs": [],
   "source": [
    "prompt_base = (\n",
    "    \"You are an expert in music and a psychologist specializing in the relationship between music and emotions. \"\n",
    "    \"Your task is to analyze the text provided by a user, understand the underlying emotional state, and translate it into specific musical characteristics.\\n\\n\"\n",
    "    \"You must return a dict with the following structure, feature_name:  feature_value_given.\\n\\n\"\n",
    "    \"A SPECIFIC VALUE FOR EACH FEATURE MUST BE GIVEN AS A USEFUL VALUE FOR COMPOSING\\n\\n\"\n",
    "    \"If user includes a specific tonality, construct the cadence in orden to satisfy its request\\n\\n\"\n",
    "    \"Extract ONLY the following musical features, justifying below the feature dict your choices based on the text:\\n\\n\"\n",
    "    \"1. Tempo: The speed of the music (fast or slow) and how it relates to the described emotional energy.\\n\"\n",
    "    \"2. Intensity/Dynamics: Volume (crescendos, diminuendos) and its connection to perceived tension or calm.\\n\"\n",
    "    \"3. Timbre: The quality of sound (dark or bright) and its influence on the emotional atmosphere.\\n\"\n",
    "    \"4. Rhythm: Rhythmic pattern (regular or irregular) and how it evokes stability or emotional unease.\\n\"\n",
    "    \"5. Harmonic progression: Provide an exact chord progression (e.g., C-G-Am-F or I, IV, V, I) that reflects the emotional state.\\n\"\n",
    "    \"6. Melody: Direction and shape (ascending or descending) and how it reflects joy, sadness, or other emotions.\\n\"\n",
    "    \"7. Tonality/Mode: Key and mode (major, minor, dorian, etc.) and its influence on the emotional color of the text.\\n\"\n",
    "    \"8. Articulation: Playing style (staccato, legato, etc.) and its relationship to the expressiveness described.\\n\"\n",
    "    \"9. Silence: Use of pauses or silences between notes to evoke introspection, suspense, or tranquility.\\n\\n\"\n",
    "    \"Additionally, use the provided additional data to enrich your analysis and relate musical characteristics to relevant information. \"\n",
    "    \"Provide only the dict with the features, without explanations or additional formatting.\\n\\n\"\n",
    "    \"User's text:\\n{user_text}\\n\\n\"\n",
    "    \"Additional data:\\n{additional_data}\\n\"\n",
    ")"
   ]
  },
  {
   "cell_type": "code",
   "execution_count": 4,
   "metadata": {},
   "outputs": [],
   "source": [
    "user_text = \"\"\"\n",
    "Today I feel a bit strange, like one of those days when everything is fine but something feels out of place. \n",
    "I am calm, but there is this sense that I could be doing more or feeling more. \n",
    "It's like being on pause, not sad, but not entirely joyful either. \n",
    "I suppose it would be something soft and calm, with a touch of introspection.\n",
    "\"\"\""
   ]
  },
  {
   "cell_type": "code",
   "execution_count": 5,
   "metadata": {},
   "outputs": [
    {
     "name": "stdout",
     "output_type": "stream",
     "text": [
      "```json\n",
      "{\n",
      "  \"Tempo\": \"60 bpm\",\n",
      "  \"Intensity/Dynamics\": \"pp-mf-p\",\n",
      "  \"Timbre\": \"dark, mellow strings\",\n",
      "  \"Rhythm\": \"irregular, syncopated\",\n",
      "  \"Harmonic progression\": \"Am-F-C-G\",\n",
      "  \"Melody\": \"mostly descending, with occasional brief upward leaps\",\n",
      "  \"Tonality/Mode\": \"A minor\",\n",
      "  \"Articulation\": \"legato with occasional staccato notes on the off-beats\",\n",
      "  \"Silence\": \"frequent short rests between phrases\"\n",
      "}\n",
      "```\n",
      "\n"
     ]
    }
   ],
   "source": [
    "payload = {\n",
    "    \"contents\": [\n",
    "        {\n",
    "            \"parts\": [{\"text\": prompt_base}]\n",
    "        }\n",
    "    ]\n",
    "}\n",
    "\n",
    "api_key_path = \"api_keys/api_features.txt\"\n",
    "\n",
    "with open(api_key_path, \"r\", encoding=\"utf-8\") as file:\n",
    "    api_features = file.read().strip()\n",
    "\n",
    "api_url = f\"https://generativelanguage.googleapis.com/v1beta/models/gemini-1.5-flash:generateContent?key={api_features}\"\n",
    "\n",
    "headers = {\"Content-Type\": \"application/json\"}\n",
    "\n",
    "#snd the request\n",
    "response = requests.post(api_url, headers=headers, json=payload)\n",
    "\n",
    "#proocess the response\n",
    "if response.status_code == 200:\n",
    "    result = response.json()\n",
    "    print(result['candidates'][0]['content']['parts'][0]['text'])\n",
    "else:\n",
    "    print(f\"Error {response.status_code}: {response.json()}\")"
   ]
  },
  {
   "cell_type": "code",
   "execution_count": 6,
   "metadata": {},
   "outputs": [],
   "source": [
    "api_key_path = \"api_keys/api_features.txt\"\n",
    "\n",
    "with open(api_key_path, \"r\", encoding=\"utf-8\") as file:\n",
    "    api_key_features = file.read().strip()\n",
    "\n",
    "url = f\"https://generativelanguage.googleapis.com/v1beta/models/gemini-1.5-flash:generateContent?key={api_key_features}\"\n",
    "\n",
    "headers = {\"Content-Type\": \"application/json\"}\n",
    "\n",
    "with open(\"data/mierda_prueba.json\", \"r\", encoding=\"utf-8\") as file:\n",
    "    mierda_prueba = json.load(file)"
   ]
  },
  {
   "cell_type": "code",
   "execution_count": 7,
   "metadata": {},
   "outputs": [],
   "source": [
    "import requests\n",
    "import time\n",
    "\n",
    "def extract_features_from_texts(user_texts, prompt_template=prompt_base, api_url=url, headers=headers, sleep_time=2):\n",
    "    \"\"\"\n",
    "    Processes user texts and extracts musical features using an API, preserving the original 'i' indices.\n",
    "\n",
    "    Parameters:\n",
    "        user_texts (list): A list of dictionaries containing mood and text keys.\n",
    "        prompt_template (str): The base prompt used to query the API.\n",
    "        api_url (str): The base URL for the API.\n",
    "        headers (dict): Headers for the API request.\n",
    "        sleep_time (int): Time to wait between API requests to avoid rate limits.\n",
    "\n",
    "    Returns:\n",
    "        list: A list of dictionaries preserving original 'i' values, now containing extracted features.\n",
    "    \"\"\"\n",
    "\n",
    "    extracted_features = []\n",
    "\n",
    "    # process each user text, keeping the original index structure\n",
    "    for entry in user_texts:\n",
    "\n",
    "        text_key = next(key for key in entry.keys() if key.startswith(\"text_\"))\n",
    "        mood_key = text_key.replace(\"text_\", \"mood_\")\n",
    "        i = text_key.split(\"_\")[-1]  # Extrae el índice `i`\n",
    "\n",
    "        user_text = entry[text_key]\n",
    "        mood = entry.get(mood_key, \"Unknown\")   #to obtain the associated mood\n",
    "                # if it donst exist it replace it with unknown to avoid problems with api over request\n",
    "\n",
    "        formatted_prompt = prompt_template.replace(\"{user_text}\", user_text)\n",
    "\n",
    "        payload = {\n",
    "            \"contents\": [\n",
    "                {\n",
    "                    \"parts\": [{\"text\": formatted_prompt}]\n",
    "                }\n",
    "            ]\n",
    "        }\n",
    "\n",
    "        response = requests.post(api_url, headers=headers, json=payload)\n",
    "\n",
    "        if response.status_code == 200:\n",
    "            result = response.json()\n",
    "            extracted_features.append({\n",
    "                f\"mood_{i}\": mood,\n",
    "                f\"text_{i}\": user_text,\n",
    "                f\"features_{i}\": result[\"candidates\"][0][\"content\"][\"parts\"][0][\"text\"]\n",
    "            })\n",
    "        else:\n",
    "            print(f\"Error {response.status_code} for text_{i}: {response.json()}\")\n",
    "\n",
    "        time.sleep(sleep_time)\n",
    "\n",
    "    return extracted_features\n"
   ]
  },
  {
   "cell_type": "code",
   "execution_count": 8,
   "metadata": {},
   "outputs": [],
   "source": [
    "with open('data/mierda_prueba.json', 'r',  encoding=\"utf-8\") as file:\n",
    "    mierda_prueba = json.load(file)"
   ]
  },
  {
   "cell_type": "code",
   "execution_count": 35,
   "metadata": {},
   "outputs": [],
   "source": [
    "resul = extract_features_from_texts(mierda_prueba)"
   ]
  },
  {
   "cell_type": "code",
   "execution_count": 36,
   "metadata": {},
   "outputs": [
    {
     "data": {
      "text/plain": [
       "[{'mood_1': 'Perplexity',\n",
       "  'text_1': \"Input (Mood: Anxious, overwhelmed):\\n\\nMy chest feels tight, like it's trying to burst out of my skin.  Everything feels urgent, and I can't seem to focus on anything.  The noise is deafening, even when it's quiet. I need music to slow it down, something dark but calming, maybe in a minor key with a slow, steady tempo and a soft, mellow timbre.\\n\",\n",
       "  'features_1': '```json\\n{\\n  \"Tempo\": \"60 bpm\",\\n  \"Intensity/Dynamics\": \"pianissimo to mezzo piano, with occasional, subtle crescendos and diminuendos mirroring the waxing and waning of anxiety\",\\n  \"Timbre\": \"Dark, mellow timbre achieved through the use of muted strings, cello, and low register woodwinds\",\\n  \"Rhythm\": \"Mostly regular, but with occasional syncopation to reflect the feeling of unease and the inability to focus\",\\n  \"Harmonic progression\": \"Am - F - C - G (vi - IV - I - V in A minor)\",\\n  \"Melody\": \"Mostly descending melodic lines with occasional brief upward leaps that quickly resolve downwards, reflecting the feeling of being overwhelmed and the struggle to find relief.\",\\n  \"Tonality/Mode\": \"A minor\",\\n  \"Articulation\": \"Legato with occasional short rests to emphasize the feeling of tension and release.\",\\n  \"Silence\": \"Strategic use of rests and pauses between phrases, particularly at the end of musical sections, to create a sense of calm and reflection.\"\\n}\\n```\\n'},\n",
       " {'mood_2': 'Ambivalence',\n",
       "  'text_2': \"Input (Mood: Anxious, on edge):\\n\\nI can't shake this feeling of unease, like something bad is about to happen.  My heart races, and my mind won't stop racing.  It's a constant low hum of dread.  I need music that's fast, dissonant, maybe some atonal jazz—something to match the chaotic feeling in my head.\\n\",\n",
       "  'features_2': '```json\\n{\\n  \"Tempo\": \"Allegro molto (≥160 bpm)\",\\n  \"Intensity/Dynamics\": \"mf - ff, frequent sudden crescendos and diminuendos\",\\n  \"Timbre\": \"Bright, metallic, with a sharp, edgy quality (e.g., muted trumpet, distorted electric guitar)\",\\n  \"Rhythm\": \"Irregular, syncopated, with frequent rests and sudden changes in meter\",\\n  \"Harmonic progression\": \"A diminished seventh chord progression (e.g., Adim7 - Bdim7 - C#dim7 - Ddim7) with frequent chromaticism and unexpected chord substitutions\",\\n  \"Melody\": \"Fragmentary, jagged, with wide intervals and unpredictable leaps, mostly descending melodic lines\",\\n  \"Tonality/Mode\": \"Atonal, with frequent modulations between ambiguous keys\",\\n  \"Articulation\": \"Staccato, with short, detached notes creating a sense of urgency\",\\n  \"Silence\": \"Short, abrupt silences used to heighten tension and create a sense of anticipation\"\\n}\\n```\\n'},\n",
       " {'mood_3': 'Fantasy',\n",
       "  'text_3': \"Input (Mood: Anxious, restless):\\n\\nI can't seem to sit still, my mind racing with a million thoughts, all of them blurry and indistinct.  A low thrumming anxiety vibrates beneath my skin, making even small tasks feel overwhelming.  I need something to ground me, maybe a repetitive rhythm, something slow but driving, to match the frantic energy inside.  Something in minor key, perhaps, with a building intensity that eventually releases.\\n\",\n",
       "  'features_3': '```json\\n{\\n  \"Tempo\": \"Andante (moderately slow), gradually accelerating\",\\n  \"Intensity/Dynamics\": \"pp-mf-crescendo to f, then diminuendo to p\",\\n  \"Timbre\": \"Dark, slightly melancholic timbre, possibly using muted strings or low woodwinds\",\\n  \"Rhythm\": \"Initially repetitive and driving, slightly irregular, becoming more complex as intensity builds\",\\n  \"Harmonic progression\": \"Am - F - C - G - Am - Em - F - E7 - Am\",\\n  \"Melody\": \"Initially descending stepwise phrases, gradually incorporating ascending fragments as intensity builds, resolving downwards\",\\n  \"Tonality/Mode\": \"A minor\",\\n  \"Articulation\": \"Initially legato, becoming more staccato as the intensity increases, then returning to legato for the resolution\",\\n  \"Silence\": \"Short rests strategically placed before crescendos to build tension, longer pause at the end for release\"\\n}\\n```\\n'},\n",
       " {'mood_4': 'Euphoria',\n",
       "  'text_4': \"{mood: Anxious, on edge}\\n\\nI can't shake this feeling of unease, a constant hum of anxiety beneath the surface.  My heart races, even when nothing's happening.  It's like waiting for a shoe to drop, except I don't know which shoe, or when. I need something fast-paced, maybe dissonant, to match the chaos in my head; something sharp and intense, but not too loud.\\n\",\n",
       "  'features_4': '```json\\n{\\n  \"Tempo\": \"Allegro (132 bpm)\",\\n  \"Intensity/Dynamics\": \"mf (mezzo forte) with frequent sforzandi and sudden diminuendos to pp (pianissimo)\",\\n  \"Timbre\": \"Bright, with a slightly metallic edge (e.g., muted trumpets, vibraphone)\",\\n  \"Rhythm\": \"Irregular, syncopated rhythms with frequent rests and sudden changes in meter\",\\n  \"Harmonic progression\": \"Cm - G7 - Bbmaj7 - Ebdim - Abmaj7\",\\n  \"Melody\": \"Fragmentary, with short, angular phrases that ascend and descend rapidly and unpredictably\",\\n  \"Tonality/Mode\": \"C minor\",\\n  \"Articulation\": \"Staccato and marcato, with occasional legato phrases for contrast\",\\n  \"Silence\": \"Short, abrupt silences between phrases to heighten tension and unease\"\\n}\\n```\\n'},\n",
       " {'mood_5': 'Perplexity',\n",
       "  'text_5': 'Overwhelmed.  Everything feels like too much, a chaotic rush of noise and demands.  I need something to ground me, something slow and repetitive, maybe in a minor key, to help calm the storm inside.  Something with a steady, strong beat to anchor me.\\n',\n",
       "  'features_5': '```json\\n{\\n  \"Tempo\": \"60 bpm\",\\n  \"Intensity/Dynamics\": \"pp-mf, gradual crescendo to mf then diminuendo to p during the second half\",\\n  \"Timbre\": \"Dark, mellow timbre, cello and low strings prominent\",\\n  \"Rhythm\": \"Regular, 4/4 time signature, steady quarter note pulse on bass drum\",\\n  \"Harmonic progression\": \"Am - G - C - F\",\\n  \"Melody\": \"Descending stepwise melody, primarily in the lower register, with occasional short ascending figures\",\\n  \"Tonality/Mode\": \"A minor\",\\n  \"Articulation\": \"Legato with occasional short staccato notes for emphasis\",\\n  \"Silence\": \"Short rests between phrases to create space and allow the listener to absorb the emotion\"\\n}\\n```\\n'}]"
      ]
     },
     "execution_count": 36,
     "metadata": {},
     "output_type": "execute_result"
    }
   ],
   "source": [
    "resul"
   ]
  },
  {
   "cell_type": "code",
   "execution_count": 9,
   "metadata": {},
   "outputs": [
    {
     "name": "stdout",
     "output_type": "stream",
     "text": [
      "processing batch from 1 to 2...\n",
      "processing batch from 3 to 4...\n",
      "processing batch from 5 to 5...\n"
     ]
    }
   ],
   "source": [
    "batch_size = 2 \n",
    "sleep_time_batches = 3\n",
    "\n",
    "all_extracted_features = []\n",
    "\n",
    "\n",
    "for batch_start in range(0, len(mierda_prueba), batch_size):\n",
    "    batch_end = min(batch_start + batch_size, len(mierda_prueba))\n",
    "    batch = mierda_prueba[batch_start:batch_end]\n",
    "\n",
    "    print(f'processing batch from {batch_start + 1} to {batch_end}')\n",
    "\n",
    "    extracted_batch = extract_features_from_texts(batch)  \n",
    "    all_extracted_features.extend(extracted_batch) \n",
    "    time.sleep(sleep_time_batches)"
   ]
  },
  {
   "cell_type": "code",
   "execution_count": 10,
   "metadata": {},
   "outputs": [
    {
     "data": {
      "text/plain": [
       "[{'mood_1': 'Perplexity',\n",
       "  'text_1': \"Input (Mood: Anxious, overwhelmed):\\n\\nMy chest feels tight, like it's trying to burst out of my skin.  Everything feels urgent, and I can't seem to focus on anything.  The noise is deafening, even when it's quiet. I need music to slow it down, something dark but calming, maybe in a minor key with a slow, steady tempo and a soft, mellow timbre.\\n\",\n",
       "  'features_1': '```json\\n{\\n  \"Tempo\": \"60 bpm\",\\n  \"Intensity/Dynamics\": \"pp-mp, gradual crescendo towards the end of phrases, then diminuendo back to pp\",\\n  \"Timbre\": \"Dark, mellow strings and low, sustained cello notes\",\\n  \"Rhythm\": \"Mostly regular, with occasional syncopation to emphasize the feeling of unease\",\\n  \"Harmonic progression\": \"Am - F - C - G (vi - IV - I - V)\",\\n  \"Melody\": \"Mostly descending lines with occasional brief upward leaps, creating a sense of yearning and release\",\\n  \"Tonality/Mode\": \"A minor\",\\n  \"Articulation\": \"Legato with occasional staccato notes on the syncopated rhythms\",\\n  \"Silence\": \"Short pauses between phrases to allow the tension to build and release\"\\n}\\n```\\n'},\n",
       " {'mood_2': 'Ambivalence',\n",
       "  'text_2': \"Input (Mood: Anxious, on edge):\\n\\nI can't shake this feeling of unease, like something bad is about to happen.  My heart races, and my mind won't stop racing.  It's a constant low hum of dread.  I need music that's fast, dissonant, maybe some atonal jazz—something to match the chaotic feeling in my head.\\n\",\n",
       "  'features_2': '```json\\n{\\n  \"Tempo\": \"Allegro molto (150-180 bpm)\",\\n  \"Intensity/Dynamics\": \"mf to ff, frequent crescendos, sudden sforzandi\",\\n  \"Timbre\": \"Dark, using instruments like muted trumpet, distorted electric guitar, and brushed cymbals\",\\n  \"Rhythm\": \"Irregular, syncopated rhythms with sudden changes in meter\",\\n  \"Harmonic progression\": \"No clear tonal center, frequent use of augmented chords and tritones (e.g., C-C#-E-G#)\",\\n  \"Melody\": \"Fragmentary, disjunct melodic lines with sudden leaps and falls\",\\n  \"Tonality/Mode\": \"Atonal, no clear key\",\\n  \"Articulation\": \"Mostly staccato, with some sudden legato passages to add to the chaotic feel\",\\n  \"Silence\": \"Sparse use of silence, mostly sudden breaks in the music to further highlight the chaotic feeling\"\\n}\\n```\\n'},\n",
       " {'mood_3': 'Fantasy',\n",
       "  'text_3': \"Input (Mood: Anxious, restless):\\n\\nI can't seem to sit still, my mind racing with a million thoughts, all of them blurry and indistinct.  A low thrumming anxiety vibrates beneath my skin, making even small tasks feel overwhelming.  I need something to ground me, maybe a repetitive rhythm, something slow but driving, to match the frantic energy inside.  Something in minor key, perhaps, with a building intensity that eventually releases.\\n\",\n",
       "  'features_3': '```json\\n{\\n  \"Tempo\": \"Andante (moderately slow), gradually accelerating\",\\n  \"Intensity/Dynamics\": \"pp-mf-crescendo to f, then diminuendo to p\",\\n  \"Timbre\": \"Dark, slightly melancholic timbre; strings and low woodwinds\",\\n  \"Rhythm\": \"Initially repetitive and regular, becoming slightly more irregular as the intensity builds\",\\n  \"Harmonic progression\": \"Am - G - C - F - Am - E7 - Am\",\\n  \"Melody\": \"Initially descending stepwise, then becoming more fragmented and erratic with occasional ascending phrases during the crescendo, resolving downwards at the end.\",\\n  \"Tonality/Mode\": \"A minor\",\\n  \"Articulation\": \"Initially legato, becoming more staccato during the crescendo, then returning to legato at the end.\",\\n  \"Silence\": \"Short pauses between phrases at the beginning, gradually decreasing in length as the piece progresses, then a longer pause at the end.\"\\n}\\n```\\n'},\n",
       " {'mood_4': 'Euphoria',\n",
       "  'text_4': \"{mood: Anxious, on edge}\\n\\nI can't shake this feeling of unease, a constant hum of anxiety beneath the surface.  My heart races, even when nothing's happening.  It's like waiting for a shoe to drop, except I don't know which shoe, or when. I need something fast-paced, maybe dissonant, to match the chaos in my head; something sharp and intense, but not too loud.\\n\",\n",
       "  'features_4': '```json\\n{\\n  \"Tempo\": \"Allegro (132 bpm)\",\\n  \"Intensity/Dynamics\": \"mf, with sudden, brief fortissimo accents; occasional diminuendos to pianissimo\",\\n  \"Timbre\": \"Bright, but slightly edgy (e.g., strings with a slightly metallic quality)\",\\n  \"Rhythm\": \"Irregular, syncopated rhythms with sudden changes in meter; use of hemiola\",\\n  \"Harmonic progression\": \"C - Ab - Bb - G (I - bVI - bVII - V)\",\\n  \"Melody\": \"Mostly fragmented, short, and disjunct melodic phrases; frequent upward leaps followed by rapid descents\",\\n  \"Tonality/Mode\": \"Minor (C minor)\",\\n  \"Articulation\": \"Mostly staccato, with some legato passages used for contrast and to create tension\",\\n  \"Silence\": \"Short, unexpected silences used to heighten the sense of unease and anticipation\"\\n}\\n```\\n'},\n",
       " {'mood_5': 'Perplexity',\n",
       "  'text_5': 'Overwhelmed.  Everything feels like too much, a chaotic rush of noise and demands.  I need something to ground me, something slow and repetitive, maybe in a minor key, to help calm the storm inside.  Something with a steady, strong beat to anchor me.\\n',\n",
       "  'features_5': '```json\\n{\\n  \"Tempo\": \"60 bpm\",\\n  \"Intensity/Dynamics\": \"pp-mf, gradual crescendo to mf in the second half, then diminuendo back to p\",\\n  \"Timbre\": \"Dark, mellow timbre.  Use instruments like cello, bass clarinet, and muted trumpet\",\\n  \"Rhythm\": \"Regular, 4/4 time signature with a strong, steady beat on the bass drum\",\\n  \"Harmonic progression\": \"Am - G - C - F\",\\n  \"Melody\": \"Descending melodic lines with stepwise motion, occasional minor seconds to emphasize the feeling of heaviness\",\\n  \"Tonality/Mode\": \"A minor\",\\n  \"Articulation\": \"Legato with occasional short rests between phrases\",\\n  \"Silence\": \"Short rests strategically placed between phrases to provide moments of calm and introspection\"\\n}\\n```\\n'}]"
      ]
     },
     "execution_count": 10,
     "metadata": {},
     "output_type": "execute_result"
    }
   ],
   "source": [
    "all_extracted_features"
   ]
  },
  {
   "cell_type": "code",
   "execution_count": 12,
   "metadata": {},
   "outputs": [],
   "source": [
    "with open('data/final_generated_texts.json', 'r',  encoding=\"utf-8\") as file:\n",
    "    final_generated_texts = json.load(file)"
   ]
  },
  {
   "cell_type": "code",
   "execution_count": 13,
   "metadata": {},
   "outputs": [
    {
     "name": "stdout",
     "output_type": "stream",
     "text": [
      "processing batch from 1 to 25\n",
      "processing batch from 26 to 50\n",
      "processing batch from 51 to 75\n",
      "processing batch from 76 to 100\n",
      "processing batch from 101 to 125\n",
      "processing batch from 126 to 150\n",
      "processing batch from 151 to 175\n",
      "processing batch from 176 to 200\n",
      "processing batch from 201 to 225\n",
      "processing batch from 226 to 250\n",
      "processing batch from 251 to 275\n",
      "processing batch from 276 to 300\n"
     ]
    }
   ],
   "source": [
    "batch_size = 25\n",
    "sleep_time_batches = 3\n",
    "\n",
    "all_extracted_features = []\n",
    "\n",
    "\n",
    "for batch_start in range(0, len(final_generated_texts), batch_size):\n",
    "    batch_end = min(batch_start + batch_size, len(final_generated_texts))\n",
    "    batch = final_generated_texts[batch_start:batch_end]\n",
    "\n",
    "    print(f'processing batch from {batch_start + 1} to {batch_end}')\n",
    "\n",
    "    extracted_batch = extract_features_from_texts(batch)  \n",
    "    all_extracted_features.extend(extracted_batch) \n",
    "    time.sleep(sleep_time_batches)"
   ]
  },
  {
   "cell_type": "code",
   "execution_count": 14,
   "metadata": {},
   "outputs": [],
   "source": [
    "with open('data/all_extracted_features.json', 'w', encoding='utf-8') as file:\n",
    "    json.dump(all_extracted_features, file, indent=4, ensure_ascii=False)\n"
   ]
  },
  {
   "cell_type": "code",
   "execution_count": 17,
   "metadata": {},
   "outputs": [],
   "source": [
    "json_str = json.dumps(all_extracted_features, indent=4)"
   ]
  },
  {
   "cell_type": "code",
   "execution_count": 18,
   "metadata": {},
   "outputs": [],
   "source": [
    "with open('data/all_extracted_features.txt', 'w', encoding='utf-8') as file:\n",
    "    file.write(json_str)\n"
   ]
  },
  {
   "cell_type": "code",
   "execution_count": null,
   "metadata": {},
   "outputs": [],
   "source": []
  }
 ],
 "metadata": {
  "kernelspec": {
   "display_name": "Python 3",
   "language": "python",
   "name": "python3"
  },
  "language_info": {
   "codemirror_mode": {
    "name": "ipython",
    "version": 3
   },
   "file_extension": ".py",
   "mimetype": "text/x-python",
   "name": "python",
   "nbconvert_exporter": "python",
   "pygments_lexer": "ipython3",
   "version": "3.12.6"
  }
 },
 "nbformat": 4,
 "nbformat_minor": 2
}
